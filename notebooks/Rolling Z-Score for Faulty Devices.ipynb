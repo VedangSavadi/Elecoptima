{
 "cells": [
  {
   "cell_type": "code",
   "execution_count": null,
   "metadata": {},
   "outputs": [],
   "source": [
    "import pandas as pd\n",
    "import numpy as np\n",
    "import warnings\n",
    "warnings.filterwarnings('ignore')"
   ]
  },
  {
   "cell_type": "code",
   "execution_count": null,
   "metadata": {},
   "outputs": [],
   "source": [
    "df1 = pd.read_csv('datasets\\electricity_appliance_wise_data.csv')\n",
    "df1['Date'] = pd.to_datetime(df1['Date'])\n",
    "df1 = df1[df1['Date'].dt.year == 2021]\n",
    "df1.reset_index(drop=True, inplace=True)\n",
    "df1.head(2)"
   ]
  },
  {
   "cell_type": "code",
   "execution_count": null,
   "metadata": {},
   "outputs": [],
   "source": [
    "def zscore(x, window):\n",
    "    r = x.rolling(window=window)\n",
    "    m = r.mean().shift(1)\n",
    "    s = r.std(ddof=0).shift(1)\n",
    "    z = (x-m)/s\n",
    "    return z"
   ]
  },
  {
   "cell_type": "code",
   "execution_count": null,
   "metadata": {},
   "outputs": [],
   "source": [
    "df1['kap_zscore'] = zscore(df1['Kitchen Appliances'], 30)\n",
    "df1['fridge_zscore'] = zscore(df1['Fridge'], 30)\n",
    "df1['ac_zscore'] = zscore(df1['AC'], 30)\n",
    "df1['oap_zscore'] = zscore(df1['Other Appliances'], 30)\n",
    "df1['wm_zscore'] = zscore(df1['Washing Machine'], 3)"
   ]
  },
  {
   "cell_type": "code",
   "execution_count": null,
   "metadata": {},
   "outputs": [],
   "source": [
    "df1[df1['kap_zscore'] > 5]"
   ]
  },
  {
   "cell_type": "code",
   "execution_count": null,
   "metadata": {},
   "outputs": [],
   "source": [
    "df1[df1['fridge_zscore'] > 5]"
   ]
  },
  {
   "cell_type": "code",
   "execution_count": null,
   "metadata": {},
   "outputs": [],
   "source": [
    "df1[df1['ac_zscore'] > 5]"
   ]
  },
  {
   "cell_type": "code",
   "execution_count": null,
   "metadata": {},
   "outputs": [],
   "source": [
    "df1[df1['oap_zscore'] > 5]"
   ]
  },
  {
   "cell_type": "code",
   "execution_count": null,
   "metadata": {},
   "outputs": [],
   "source": [
    "df1[df1['wm_zscore'] > 3]"
   ]
  },
  {
   "cell_type": "code",
   "execution_count": null,
   "metadata": {},
   "outputs": [],
   "source": [
    "fig = go.Figure()\n",
    "df_anoms = df1[df1['wm_zscore'] > 3]\n",
    "fig.add_trace(go.Scatter(x=df1['Date'], y=df1['Washing Machine'],\n",
    "                    mode='lines',\n",
    "                    name='lines'))\n",
    "fig.add_trace(go.Scatter(x=df_anoms['Date'], y=df_anoms['Washing Machine'],\n",
    "                    mode='markers',\n",
    "                    name='lines'))\n",
    "fig.update_layout(title='Anomalies detected in Washing Machine')"
   ]
  },
  {
   "cell_type": "code",
   "execution_count": null,
   "metadata": {},
   "outputs": [],
   "source": [
    "import smtplib, ssl\n",
    "from smtplib import SMTPException\n",
    "from pathlib import Path\n",
    "from email.mime.multipart import MIMEMultipart\n",
    "from email.mime.base import MIMEBase\n",
    "from email.mime.text import MIMEText\n",
    "from email.utils import COMMASPACE, formatdate\n",
    "from email import encoders\n",
    "import plotly\n",
    "import datetime\n",
    "import plotly.graph_objects as go\n",
    "import plotly.offline as py\n",
    "\n",
    "df_anoms_fridge = df1[df1['fridge_zscore'] > 3]\n",
    "df_anoms_kap = df1[df1['kap_zscore'] > 3]\n",
    "df_anoms_ac = df1[df1['ac_zscore'] > 3]\n",
    "df_anoms_oap = df1[df1['oap_zscore'] > 3]\n",
    "df_anoms_wm = df1[df1['wm_zscore'] > 3]\n",
    "\n",
    "for i in df_anoms_wm['Date']:\n",
    "    fig = go.Figure()\n",
    "    df_anoms_temp = df_anoms_wm[df_anoms_wm['Date'] == i]\n",
    "    df_anoms_temp.reset_index(drop=True, inplace=True)\n",
    "    df_all_temp = df1[df1['Date'] <= i + datetime.timedelta(days=1)]\n",
    "    df_all_temp.reset_index(drop=True, inplace=True)\n",
    "    fig.add_trace(go.Scatter(x=df_all_temp['Date'], y=df_all_temp['Washing Machine'],\n",
    "                        mode='lines',\n",
    "                        name='Actual Consumption'))\n",
    "    fig.add_trace(go.Scatter(x=df_anoms_temp['Date'], y=df_anoms_temp['Washing Machine'],\n",
    "                        mode='markers',\n",
    "                        name='High Fluctuations'))\n",
    "    fig.update_traces(marker=dict(size=5, \n",
    "                                  line=dict(width=5,\n",
    "                                            color='red')))\n",
    "    i = str(i)\n",
    "    i = i[:-9]\n",
    "    plotly.io.write_image(fig, 'output_file'+i+'.pdf', format='pdf')\n",
    "    SUBJECT = \"Possible Detection of Faulty Device - Dated:\" + i\n",
    "\n",
    "    msg = MIMEMultipart()\n",
    "    msg['Subject'] = SUBJECT \n",
    "    msg['From'] = 'debadriworkshop@gmail.com'\n",
    "    msg['To'] = 'debadridtt@gmail.com'\n",
    "\n",
    "    body = \"Electra.AI has detected a possible faulty device. This can cause a power outage/trip/excessive electricity consumption\"\n",
    "\n",
    "    msg.attach(MIMEText(body, 'plain'))\n",
    "\n",
    "    filename = 'output_file'+i+'.pdf'\n",
    "    attachment = open('output_file'+i+'.pdf', \"rb\")\n",
    "\n",
    "    part = MIMEBase('application', \"octet-stream\")\n",
    "    part.set_payload((attachment).read())\n",
    "    encoders.encode_base64(part)\n",
    "\n",
    "    part.add_header('Content-Disposition', \"attachment; filename= %s\" % filename)\n",
    "\n",
    "    msg.attach(part)\n",
    "    context = ssl.create_default_context()\n",
    "    server = smtplib.SMTP('smtp.gmail.com', 587)\n",
    "    server.ehlo()\n",
    "    server.starttls(context=context)\n",
    "    server.ehlo()\n",
    "    server.login(msg['From'], '*******')\n",
    "    server.sendmail(msg['From'], msg['To'], msg.as_string())\n",
    "    print('Email sent successfully for Date:', i)"
   ]
  },
  {
   "cell_type": "code",
   "execution_count": null,
   "metadata": {},
   "outputs": [],
   "source": []
  }
 ],
 "metadata": {
  "language_info": {
   "name": "python"
  }
 },
 "nbformat": 4,
 "nbformat_minor": 2
}
